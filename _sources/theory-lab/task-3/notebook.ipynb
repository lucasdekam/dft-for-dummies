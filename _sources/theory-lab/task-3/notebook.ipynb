{
 "cells": [
  {
   "cell_type": "code",
   "execution_count": 7,
   "metadata": {},
   "outputs": [],
   "source": [
    "from ase.build import fcc111, add_adsorbate\n",
    "from ase.visualize import view\n",
    "from ase.constraints import FixAtoms\n",
    "from ase.io import write \n",
    "\n",
    "slab = fcc111(\"Pt\", size=(2, 2, 3), vacuum=7.0, a=4.00)\n",
    "slab.pbc = (True, True, True)\n",
    "slab.set_constraint(FixAtoms(mask=[tag > 1 for tag in slab.get_tags()]))\n",
    "add_adsorbate(slab, 'O', 1.0, 'fcc')\n",
    "write('POSCAR', slab)\n",
    "# view(slab, repeat=(3,3,1))\n"
   ]
  },
  {
   "cell_type": "code",
   "execution_count": null,
   "metadata": {},
   "outputs": [],
   "source": [
    "from ase.io import read\n",
    "atoms = read(\"POSCAR\")\n",
    "view(atoms)"
   ]
  },
  {
   "cell_type": "code",
   "execution_count": null,
   "metadata": {},
   "outputs": [],
   "source": [
    "U_O2 = a + b + c \n",
    "\n",
    "G_O2 = U_O2 - T*...."
   ]
  }
 ],
 "metadata": {
  "kernelspec": {
   "display_name": "Python 3",
   "language": "python",
   "name": "python3"
  },
  "language_info": {
   "codemirror_mode": {
    "name": "ipython",
    "version": 3
   },
   "file_extension": ".py",
   "mimetype": "text/x-python",
   "name": "python",
   "nbconvert_exporter": "python",
   "pygments_lexer": "ipython3",
   "version": "3.12.4"
  }
 },
 "nbformat": 4,
 "nbformat_minor": 2
}
