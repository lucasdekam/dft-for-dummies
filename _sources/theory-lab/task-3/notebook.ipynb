{
 "cells": [
  {
   "cell_type": "code",
   "execution_count": 3,
   "metadata": {},
   "outputs": [
    {
     "ename": "NameError",
     "evalue": "name 'plt' is not defined",
     "output_type": "error",
     "traceback": [
      "\u001b[1;31m---------------------------------------------------------------------------\u001b[0m",
      "\u001b[1;31mNameError\u001b[0m                                 Traceback (most recent call last)",
      "Cell \u001b[1;32mIn[3], line 12\u001b[0m\n\u001b[0;32m      9\u001b[0m add_adsorbate(slab, \u001b[38;5;124m'\u001b[39m\u001b[38;5;124mO\u001b[39m\u001b[38;5;124m'\u001b[39m, \u001b[38;5;241m1.0\u001b[39m, \u001b[38;5;124m'\u001b[39m\u001b[38;5;124mfcc\u001b[39m\u001b[38;5;124m'\u001b[39m)\n\u001b[0;32m     10\u001b[0m write(\u001b[38;5;124m'\u001b[39m\u001b[38;5;124mPOSCAR\u001b[39m\u001b[38;5;124m'\u001b[39m, slab)\n\u001b[1;32m---> 12\u001b[0m fig \u001b[38;5;241m=\u001b[39m \u001b[43mplt\u001b[49m\u001b[38;5;241m.\u001b[39mfigure()\n\u001b[0;32m     13\u001b[0m ax \u001b[38;5;241m=\u001b[39m fig\u001b[38;5;241m.\u001b[39madd_subplot()\n\u001b[0;32m     14\u001b[0m plot_atoms(slab, ax, repeat\u001b[38;5;241m=\u001b[39m(\u001b[38;5;241m3\u001b[39m,\u001b[38;5;241m3\u001b[39m,\u001b[38;5;241m1\u001b[39m))\n",
      "\u001b[1;31mNameError\u001b[0m: name 'plt' is not defined"
     ]
    }
   ],
   "source": [
    "from ase.build import fcc111, add_adsorbate\n",
    "from ase.visualize.plot import plot_atoms\n",
    "from ase.constraints import FixAtoms\n",
    "from ase.io import write \n",
    "from matplotlib import pyplot as plt \n",
    "\n",
    "slab = fcc111(\"Pt\", size=(2, 2, 3), vacuum=7.0, a=4.00)\n",
    "slab.pbc = (True, True, True)\n",
    "slab.set_constraint(FixAtoms(mask=[tag > 1 for tag in slab.get_tags()]))\n",
    "add_adsorbate(slab, 'O', 1.0, 'fcc')\n",
    "write('POSCAR', slab)\n",
    "\n",
    "fig = plt.figure()\n",
    "ax = fig.add_subplot()\n",
    "plot_atoms(slab, ax, repeat=(3,3,1))\n"
   ]
  },
  {
   "cell_type": "code",
   "execution_count": null,
   "metadata": {},
   "outputs": [],
   "source": [
    "from ase.io import read\n",
    "atoms = read(\"POSCAR\")\n",
    "view(atoms)"
   ]
  },
  {
   "cell_type": "code",
   "execution_count": null,
   "metadata": {},
   "outputs": [],
   "source": [
    "U_O2 = a + b + c \n",
    "\n",
    "G_O2 = U_O2 - T*...."
   ]
  }
 ],
 "metadata": {
  "kernelspec": {
   "display_name": "Python 3",
   "language": "python",
   "name": "python3"
  },
  "language_info": {
   "codemirror_mode": {
    "name": "ipython",
    "version": 3
   },
   "file_extension": ".py",
   "mimetype": "text/x-python",
   "name": "python",
   "nbconvert_exporter": "python",
   "pygments_lexer": "ipython3",
   "version": "3.12.4"
  }
 },
 "nbformat": 4,
 "nbformat_minor": 2
}
